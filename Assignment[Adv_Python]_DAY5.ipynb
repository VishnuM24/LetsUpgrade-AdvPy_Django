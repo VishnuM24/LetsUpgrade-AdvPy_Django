{
  "nbformat": 4,
  "nbformat_minor": 0,
  "metadata": {
    "colab": {
      "name": "Assignment[Adv. Python]-DAY5.ipynb",
      "provenance": [],
      "authorship_tag": "ABX9TyM6CTJ2MIgOLjQkhuJ5y40Y",
      "include_colab_link": true
    },
    "kernelspec": {
      "name": "python3",
      "display_name": "Python 3"
    }
  },
  "cells": [
    {
      "cell_type": "markdown",
      "metadata": {
        "id": "view-in-github",
        "colab_type": "text"
      },
      "source": [
        "<a href=\"https://colab.research.google.com/github/VishnuM24/LetsUpgrade-AdvPy_Django/blob/main/Assignment%5BAdv_Python%5D_DAY5.ipynb\" target=\"_parent\"><img src=\"https://colab.research.google.com/assets/colab-badge.svg\" alt=\"Open In Colab\"/></a>"
      ]
    },
    {
      "cell_type": "markdown",
      "metadata": {
        "id": "m0AYuCTGJ_pr"
      },
      "source": [
        "# **- DAY 5 -**"
      ]
    },
    {
      "cell_type": "markdown",
      "metadata": {
        "id": "NCYQCLakKJiq"
      },
      "source": [
        "## ***ASSIGNMENT -1***\n",
        "---\n",
        "\n",
        "The **SHIELD** is a secretive organization entrusted with the task of guarding the world against any disaster. Their arch nemesis is the organization called **HYDRA**. Unfortunately some members from HYDRA had infiltrated into the SHIELD camp. SHIELD needed to find out all these infiltrators to ensure that it was not compromised.\n",
        "\n",
        "**Nick Fury**, the executive director and the prime SHIELD member figured out that every one in SHIELD could send a *SOS signal* to every other SHIELD member he knew well. The HYDRA members could send bogus *SOS messages* to others to confuse others, but they could never receive a SOS message from a SHIELD member. Every SHIELD member would receive a SOS message ateast one other SHIELD member, who in turn would have received from another SHIELD member and so on till NickFury. SHIELD had a sophisticated mechanism to capture who sent a SOS signal to whom. \n",
        "\n",
        "Given this information, Nick needed someone to write a program that could look into this data and figure out all HYDRA members.\n",
        "\n",
        "***Sample Input***\n",
        ">Nick Fury : Tony Stark, Maria Hill, Norman Osborn\n",
        ">\n",
        ">Hulk : Tony Stark, HawkEye, Rogers\n",
        ">\n",
        ">Rogers : Thor\n",
        ">\n",
        ">Tony Stark: Pepper Potts, Nick Fury\n",
        ">\n",
        ">Agent 13 : Agent-X, Nick Fury, Hitler\n",
        ">\n",
        ">Thor: HawkEye, BlackWidow\n",
        ">\n",
        ">BlackWidow: Hawkeye\n",
        ">\n",
        ">Maria Hill : Hulk, Rogers, Nick Fury\n",
        ">\n",
        ">Agent-X : Agent 13, Rogers\n",
        ">\n",
        ">Norman Osborn: Tony Stark, Thor\n",
        "\n",
        "***Sample Output***\n",
        "\n",
        ">Agent 13, Agent-X, Hitler"
      ]
    },
    {
      "cell_type": "markdown",
      "metadata": {
        "id": "BS1ZL6-mMz1d"
      },
      "source": [
        "## ***Final Solution***\n",
        "---"
      ]
    },
    {
      "cell_type": "code",
      "metadata": {
        "id": "RpxYkekzMyyF",
        "outputId": "c86ea959-e304-4e9d-fdcf-57de5e157c93",
        "colab": {
          "base_uri": "https://localhost:8080/",
          "height": 476
        }
      },
      "source": [
        "sosDict = {}\n",
        "sosMsg = ''\n",
        "\n",
        "print('Enter the SOS Message Info [ Sender : Receiver1, Receiver2, etc. ]\\n')\n",
        "while( 1 ):\n",
        "  sosMsg = input(  )\n",
        "  print()\n",
        "\n",
        "  #if( sosMsg.upper() == 'END' ):\n",
        "  if not sosMsg:\n",
        "    break\n",
        "\n",
        "  sosKey, sosValues = sosMsg.upper().split( ':' ) # Get the key and values after converting to UPPER case\n",
        "  \n",
        "  sosKey = sosKey.strip() # remove start and end white spaces\n",
        "  sosValues_list = list(name.strip() for name in sosValues.split( ',' ))\n",
        "\n",
        "  sosDict[ sosKey ] = sosValues_list\n",
        " \n",
        "#end of while(1)\n",
        "\n",
        "suspect_set = set( name for name_list in sosDict.values() for name in name_list)\n",
        "suspect_set.discard( 'NICK FURY' ) # remove Nick Fury from suspect set\n",
        "\n",
        "def analyzeSuspect( name_key ): # Recurssive function\n",
        "  for eachName in name_key:\n",
        "    \n",
        "    if( eachName in sosDict and eachName in suspect_set ):\n",
        "      suspect_set.discard( eachName )\n",
        "      analyzeSuspect( sosDict[eachName] )\n",
        "    suspect_set.discard( eachName ) # Remove suspect if sos received from real agent  even if person not send to anyone else (Eg: Hawkeye, PepperPotts)\n",
        "  return\n",
        "#end of function definition\n",
        "\n",
        "analyzeSuspect( sosDict['NICK FURY'] )\n",
        "\n",
        "print('The HYDRA members are:')\n",
        "for suspect in suspect_set:\n",
        "  print('\\b '+suspect + ',')\n",
        "print('\\b\\b')"
      ],
      "execution_count": 63,
      "outputs": [
        {
          "output_type": "stream",
          "text": [
            "Enter the SOS Message Info [ Sender : Receiver1, Receiver2, etc. ]\n",
            "\n",
            "Nick Fury : Tony Stark, Maria Hill, Norman Osborn  \n",
            "\n",
            "Hulk : Tony Stark, HawkEye, Rogers\n",
            "\n",
            "Rogers : Thor  \n",
            "\n",
            "Tony Stark: Pepper Potts, Nick Fury  \n",
            "\n",
            "Agent 13 : Agent-X, Nick Fury, Hitler\n",
            "\n",
            "Thor: HawkEye, BlackWidow  \n",
            "\n",
            "BlackWidow: Hawkeye  \n",
            "\n",
            "Maria Hill : Hulk, Rogers, Nick Fury  \n",
            "\n",
            "Agent-X : Agent 13, Rogers  \n",
            "\n",
            "Norman Osborn: Tony Stark, Thor\n",
            "\n",
            "\n",
            "\n",
            "The HYDRA members are:\n",
            "\b AGENT-X,\n",
            "\b HITLER,\n",
            "\b AGENT 13,\n",
            "\b\b\n"
          ],
          "name": "stdout"
        }
      ]
    },
    {
      "cell_type": "markdown",
      "metadata": {
        "id": "23B85qKBMsY3"
      },
      "source": [
        "---\n",
        "---\n",
        "## **Sample Try-outs**"
      ]
    },
    {
      "cell_type": "code",
      "metadata": {
        "id": "ndjgEBsCJ4O9",
        "outputId": "bba9c0cf-7ad9-4b5a-e734-110d430007e2",
        "colab": {
          "base_uri": "https://localhost:8080/",
          "height": 127
        }
      },
      "source": [
        "# Getting one Input & adding to a dictionary\n",
        "\n",
        "sosMsg = input( 'Enter the SOS Message Info [ Sender : Receiver1, Receiver2, etc. ]\\n' )\n",
        "print()\n",
        "\n",
        "sosMsgTemp = sosMsg.replace( ' ', '' ).upper() # Remove spaces & format capitalize for better result\n",
        "#print(sosMsgTemp)\n",
        "\n",
        "sosKey, sosValues = sosMsgTemp.split( ':' ) # Get the key and values\n",
        "print(sosKey)\n",
        "sosValues_list = sosValues.split( ',' )\n",
        "print(sosValues_list)\n",
        "\n",
        "sosDict = {}\n",
        "sosDict[ sosKey ] = sosValues_list\n",
        "print(sosDict)"
      ],
      "execution_count": 11,
      "outputs": [
        {
          "output_type": "stream",
          "text": [
            "Enter the SOS Message Info [ Sender : Receiver1, Receiver2, etc. ]\n",
            "nIck : Harry, ArroW, huLk\n",
            "\n",
            "NICK\n",
            "['HARRY', 'ARROW', 'HULK']\n",
            "{'NICK': ['HARRY', 'ARROW', 'HULK']}\n"
          ],
          "name": "stdout"
        }
      ]
    },
    {
      "cell_type": "code",
      "metadata": {
        "id": "z2ePgTS_KHHo",
        "outputId": "6ef24281-f1d0-43c1-daf5-841c096bd6da",
        "colab": {
          "base_uri": "https://localhost:8080/",
          "height": 661
        }
      },
      "source": [
        "# Getting mulitple SOS info inputs & adding to a dictionary\n",
        "\n",
        "sosDict = {}\n",
        "sosMsg = ''\n",
        "\n",
        "while( 1 ):\n",
        "  sosMsg = input( 'Enter the SOS Message Info [ Sender : Receiver1, Receiver2, etc. ] OR END to Analyze\\n' )\n",
        "  print()\n",
        "\n",
        "  if( sosMsg.upper() == 'END' ):\n",
        "    break\n",
        "\n",
        "  #sosMsgTemp = sosMsg.replace( ' ', '' ) # Remove spaces & format capitalize for better result\n",
        "\n",
        "  sosKey, sosValues = sosMsg.upper().split( ':' ) # Get the key and values after converting to UPPER case\n",
        "  \n",
        "  sosKey = sosKey.strip() # remove start and end white spaces\n",
        "  #print(sosKey)\n",
        "  sosValues_list = list(name.strip() for name in sosValues.split( ',' ))\n",
        "  #print(sosValues_list)\n",
        "\n",
        "  sosDict[ sosKey ] = sosValues_list\n",
        "  \n",
        "# end of while 1\n",
        "print(sosDict)"
      ],
      "execution_count": 10,
      "outputs": [
        {
          "output_type": "stream",
          "text": [
            "Enter the SOS Message Info [ Sender : Receiver1, Receiver2, etc. ] OR END to Analyze\n",
            "Nick Fury : Tony Stark, Maria Hill, Norman Osborn\n",
            "\n",
            "Enter the SOS Message Info [ Sender : Receiver1, Receiver2, etc. ] OR END to Analyze\n",
            "Hulk : Tony Stark, HawkEye, Rogers\n",
            "\n",
            "Enter the SOS Message Info [ Sender : Receiver1, Receiver2, etc. ] OR END to Analyze\n",
            "Rogers : Thor\n",
            "\n",
            "Enter the SOS Message Info [ Sender : Receiver1, Receiver2, etc. ] OR END to Analyze\n",
            "Tony Stark: Pepper Potts, Nick Fury\n",
            "\n",
            "Enter the SOS Message Info [ Sender : Receiver1, Receiver2, etc. ] OR END to Analyze\n",
            "Agent 13 : Agent-X, Nick Fury, Hitler\n",
            "\n",
            "Enter the SOS Message Info [ Sender : Receiver1, Receiver2, etc. ] OR END to Analyze\n",
            "Thor: HawkEye, BlackWidow\n",
            "\n",
            "Enter the SOS Message Info [ Sender : Receiver1, Receiver2, etc. ] OR END to Analyze\n",
            "BlackWidow: Hawkeye\n",
            "\n",
            "Enter the SOS Message Info [ Sender : Receiver1, Receiver2, etc. ] OR END to Analyze\n",
            "Maria Hill : Hulk, Rogers, Nick Fury\n",
            "\n",
            "Enter the SOS Message Info [ Sender : Receiver1, Receiver2, etc. ] OR END to Analyze\n",
            "Agent-X : Agent 13, Rogers\n",
            "\n",
            "Enter the SOS Message Info [ Sender : Receiver1, Receiver2, etc. ] OR END to Analyze\n",
            "Norman Osborn: Tony Stark, Thor\n",
            "\n",
            "Enter the SOS Message Info [ Sender : Receiver1, Receiver2, etc. ] OR END to Analyze\n",
            "end\n",
            "\n",
            "{'NICK FURY': ['TONY STARK', 'MARIA HILL', 'NORMAN OSBORN'], 'HULK': ['TONY STARK', 'HAWKEYE', 'ROGERS'], 'ROGERS': ['THOR'], 'TONY STARK': ['PEPPER POTTS', 'NICK FURY'], 'AGENT 13': ['AGENT-X', 'NICK FURY', 'HITLER'], 'THOR': ['HAWKEYE', 'BLACKWIDOW'], 'BLACKWIDOW': ['HAWKEYE'], 'MARIA HILL': ['HULK', 'ROGERS', 'NICK FURY'], 'AGENT-X': ['AGENT 13', 'ROGERS'], 'NORMAN OSBORN': ['TONY STARK', 'THOR']}\n"
          ],
          "name": "stdout"
        }
      ]
    },
    {
      "cell_type": "code",
      "metadata": {
        "id": "bdw0WeXIKzll",
        "outputId": "0c98e433-d213-4d62-c921-b52f89d2ba96",
        "colab": {
          "base_uri": "https://localhost:8080/",
          "height": 256
        }
      },
      "source": [
        "# Get all names\n",
        "'''\n",
        "for name_list in sosDict.values():\n",
        "  for name in name_list:\n",
        "    print(name)\n",
        "'''\n",
        "suspect_set = set( name for name_list in sosDict.values() for name in name_list)\n",
        "#name_set.discard( 'NICK FURY' )\n",
        "suspect_set"
      ],
      "execution_count": 37,
      "outputs": [
        {
          "output_type": "execute_result",
          "data": {
            "text/plain": [
              "{'AGENT 13',\n",
              " 'AGENT-X',\n",
              " 'BLACKWIDOW',\n",
              " 'HAWKEYE',\n",
              " 'HITLER',\n",
              " 'HULK',\n",
              " 'MARIA HILL',\n",
              " 'NICK FURY',\n",
              " 'NORMAN OSBORN',\n",
              " 'PEPPER POTTS',\n",
              " 'ROGERS',\n",
              " 'THOR',\n",
              " 'TONY STARK'}"
            ]
          },
          "metadata": {
            "tags": []
          },
          "execution_count": 37
        }
      ]
    },
    {
      "cell_type": "code",
      "metadata": {
        "id": "wq6QYA68TveC",
        "outputId": "9329eb07-c128-426e-a32c-c88fd029cef1",
        "colab": {
          "base_uri": "https://localhost:8080/",
          "height": 35
        }
      },
      "source": [
        "suspect_set.discard( 'NICK FURY' ) # remove Nick Fury from suspect set\n",
        "\n",
        "def analyzeSuspect( name_key ): # Recurssive function\n",
        "  for eachName in name_key:\n",
        "    \n",
        "    if( eachName in sosDict and eachName in suspect_set ):\n",
        "      suspect_set.discard( eachName )\n",
        "      analyzeSuspect( sosDict[eachName] )\n",
        "    suspect_set.discard( eachName ) # Remove suspect if sos received from real agent  even if person not send to anyone else (Eg: Hawkeye, PepperPotts)\n",
        "  return\n",
        "\n",
        "'''\n",
        "for eachName in sosDict['NICK FURY']:\n",
        "  #print( eachName )\n",
        "  suspect_set.discard( eachName )\n",
        "  if( eachName in sosDict ):\n",
        "    #print(eachName)\n",
        "    for name in sosDict[eachName]:\n",
        "      print(name)\n",
        "  #for name in eachName:\n",
        "   # suspect_set.discard( name )\n",
        "  #if (  )\n",
        "'''\n",
        "\n",
        "analyzeSuspect( sosDict['NICK FURY'] )\n",
        "print(suspect_set)"
      ],
      "execution_count": 38,
      "outputs": [
        {
          "output_type": "stream",
          "text": [
            "{'AGENT-X', 'HITLER', 'AGENT 13'}\n"
          ],
          "name": "stdout"
        }
      ]
    },
    {
      "cell_type": "code",
      "metadata": {
        "id": "H1IRICwsWT-y",
        "outputId": "ad03ff00-ce01-4de1-e734-92547a4f248b",
        "colab": {
          "base_uri": "https://localhost:8080/",
          "height": 237
        }
      },
      "source": [
        "# Multi-line input\n",
        "\n",
        "final_string = ' '\n",
        "#final_string += 'check'\n",
        "#print(final_string)\n",
        "\n",
        "\n",
        "print('Input Line by line:\\n')\n",
        "while(1):\n",
        "  \n",
        "  string1 = input()\n",
        "  if string1:\n",
        "    #global final_string\n",
        "    final_string += '\\n' + string1\n",
        "  if not string1:\n",
        "    break;\n",
        "print('\\nThe input is:\\n', final_string)\n"
      ],
      "execution_count": 59,
      "outputs": [
        {
          "output_type": "stream",
          "text": [
            "Input Line by line:\n",
            "\n",
            "hi\n",
            "This is Vishnu\n",
            "Thank You\n",
            "\n",
            "\n",
            "The input is:\n",
            "  \n",
            "hi\n",
            "This is Vishnu\n",
            "Thank You\n"
          ],
          "name": "stdout"
        }
      ]
    },
    {
      "cell_type": "code",
      "metadata": {
        "id": "8JPlMYrZNbrk"
      },
      "source": [
        ""
      ],
      "execution_count": null,
      "outputs": []
    }
  ]
}