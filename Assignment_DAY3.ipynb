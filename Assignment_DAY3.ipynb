{
  "nbformat": 4,
  "nbformat_minor": 0,
  "metadata": {
    "colab": {
      "name": "Assignment-DAY3.ipynb",
      "provenance": [],
      "toc_visible": true,
      "authorship_tag": "ABX9TyNrCpbmaT6cxW9Q45MV8XNl",
      "include_colab_link": true
    },
    "kernelspec": {
      "name": "python3",
      "display_name": "Python 3"
    }
  },
  "cells": [
    {
      "cell_type": "markdown",
      "metadata": {
        "id": "view-in-github",
        "colab_type": "text"
      },
      "source": [
        "<a href=\"https://colab.research.google.com/github/VishnuM24/LetsUpgrade-AdvPy_Django/blob/main/Assignment_DAY3.ipynb\" target=\"_parent\"><img src=\"https://colab.research.google.com/assets/colab-badge.svg\" alt=\"Open In Colab\"/></a>"
      ]
    },
    {
      "cell_type": "markdown",
      "metadata": {
        "id": "Bj32q7bR9hcM"
      },
      "source": [
        "# **- DAY 3 -**\n",
        "\n",
        "----\n",
        "\n"
      ]
    },
    {
      "cell_type": "markdown",
      "metadata": {
        "id": "TqBaDKwL9qhN"
      },
      "source": [
        "\n",
        "## ***ASSIGNMENT - 1***\n",
        "---\n",
        "\n",
        "\n",
        ">```\n",
        ">list3 = [\"192.168.10.9\", \"192.168.10.4\", \"192.168.10.11\", \"192.168.10.35\"]\n",
        ">\n",
        ">def fun1(x):\n",
        ">  ???\n",
        ">\n",
        ">list3.sort(key = fun1)\n",
        ">\n",
        ">print (list3)\n",
        ">```\n",
        "\n",
        "\n",
        "***Output:***\n",
        "\n",
        "[ '192.168.10.4', '192.168.10.9', '192.168.10.11', '192.168.10.35' ]"
      ]
    },
    {
      "cell_type": "code",
      "metadata": {
        "id": "uwhoy7dE9CxU",
        "outputId": "9a122000-0709-4a8e-9d17-82bb6d8304d6",
        "colab": {
          "base_uri": "https://localhost:8080/",
          "height": 35
        }
      },
      "source": [
        "list3 = [\"192.168.10.9\", \"192.168.10.4\", \"192.168.10.11\", \"192.168.10.35\"]\n",
        " \n",
        "def fun1(x):\n",
        "  #print( x.split('.')[3] )\n",
        "  return int(x.split('.')[3])\n",
        " \n",
        "list3.sort( key = fun1 )\n",
        " \n",
        "print ( list3 )"
      ],
      "execution_count": 9,
      "outputs": [
        {
          "output_type": "stream",
          "text": [
            "['192.168.10.4', '192.168.10.9', '192.168.10.11', '192.168.10.35']\n"
          ],
          "name": "stdout"
        }
      ]
    },
    {
      "cell_type": "markdown",
      "metadata": {
        "id": "_rQQxsBRPjlK"
      },
      "source": [
        " \n",
        " ---\n",
        " "
      ]
    },
    {
      "cell_type": "markdown",
      "metadata": {
        "id": "s2y-QjmMB3Hu"
      },
      "source": [
        "\n",
        "## ***ASSIGNMENT - 2***\n",
        "---\n",
        "\n",
        ">```\n",
        ">list1 = [1,2,3,0,2,3,0,1,24,0,1,3,1,0,1,21,0,1,2,0,45]\n",
        ">list1.sort()\n",
        ">\n",
        ">print(list1) \n",
        ">```\n",
        "\n",
        "\n",
        "***Output:***\n",
        "\n",
        "[ 1, 1, 1, 1, 1, 1, 2, 2, 2, 3, 3, 3, 21, 24, 45, 0, 0, 0, 0, 0, 0 ]"
      ]
    },
    {
      "cell_type": "code",
      "metadata": {
        "id": "yzGDZ2kBDLKx",
        "outputId": "d7c98adc-b13c-4a6d-b611-6d016dfc9e15",
        "colab": {
          "base_uri": "https://localhost:8080/",
          "height": 35
        }
      },
      "source": [
        "list1 = [ 1,2,3,0,2,3,0,1,24,0,1,3,1,0,1,21,0,1,2,0,45 ]\n",
        "\n",
        "maxNum = max( list1 )\n",
        "\n",
        "def sortfunc2( item ):\n",
        "  if(item == 0):\n",
        "    return maxNum+1\n",
        "  return item\n",
        "\n",
        "list1.sort( key = sortfunc2 )\n",
        " \n",
        "print(  list1  )"
      ],
      "execution_count": 35,
      "outputs": [
        {
          "output_type": "stream",
          "text": [
            "[1, 1, 1, 1, 1, 1, 2, 2, 2, 3, 3, 3, 21, 24, 45, 0, 0, 0, 0, 0, 0]\n"
          ],
          "name": "stdout"
        }
      ]
    },
    {
      "cell_type": "markdown",
      "metadata": {
        "id": "WjuUaJ4BPwqA"
      },
      "source": [
        "\n",
        "---\n"
      ]
    },
    {
      "cell_type": "markdown",
      "metadata": {
        "id": "n_ppvDEKOp0M"
      },
      "source": [
        "\n",
        "## ***ASSIGNMENT - 3***\n",
        "---\n",
        "\n",
        ">```\n",
        ">list1 = [ (10,4),(90,3),(9,1),(10,4),(9,5) ]\n",
        ">\n",
        ">def fun1(x):\n",
        "  ????\n",
        ">\n",
        ">list1.sort(key = fun1)\n",
        "print (list1) \n",
        ">```\n",
        "\n",
        "\n",
        "***Output is sorted list based on sum of numbers in each tuple element***\n",
        "\n"
      ]
    },
    {
      "cell_type": "code",
      "metadata": {
        "id": "Q0bXNz3nPzTG",
        "outputId": "9d85cd1f-cfba-4ed4-ace9-fee9e3f4f174",
        "colab": {
          "base_uri": "https://localhost:8080/",
          "height": 35
        }
      },
      "source": [
        "\n",
        "list1 = [ (10,4) , (90,3) , (9,1) , (10,4) , (9,5) ]\n",
        "  \n",
        "def fun1(x):\n",
        "  #print( x[0] + x[1] )\n",
        "  return x[0] + x[1]\n",
        "  \n",
        "list1.sort( key = fun1 )\n",
        "\n",
        "print ( list1 ) "
      ],
      "execution_count": 43,
      "outputs": [
        {
          "output_type": "stream",
          "text": [
            "[(9, 1), (10, 4), (10, 4), (9, 5), (90, 3)]\n"
          ],
          "name": "stdout"
        }
      ]
    }
  ]
}