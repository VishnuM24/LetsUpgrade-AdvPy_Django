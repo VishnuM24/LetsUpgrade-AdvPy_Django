{
  "nbformat": 4,
  "nbformat_minor": 0,
  "metadata": {
    "colab": {
      "name": " Assignment[Adv. Python]-DAY9.ipynb",
      "provenance": [],
      "authorship_tag": "ABX9TyNXGnhCGrfAVq7h1KhRtNmO",
      "include_colab_link": true
    },
    "kernelspec": {
      "name": "python3",
      "display_name": "Python 3"
    }
  },
  "cells": [
    {
      "cell_type": "markdown",
      "metadata": {
        "id": "view-in-github",
        "colab_type": "text"
      },
      "source": [
        "<a href=\"https://colab.research.google.com/github/VishnuM24/LetsUpgrade-AdvPy_Django/blob/main/Assignment%5BAdv_Python%5D_DAY9.ipynb\" target=\"_parent\"><img src=\"https://colab.research.google.com/assets/colab-badge.svg\" alt=\"Open In Colab\"/></a>"
      ]
    },
    {
      "cell_type": "markdown",
      "metadata": {
        "id": "gzslMm-GE8eX"
      },
      "source": [
        "# **- DAY 9 -**"
      ]
    },
    {
      "cell_type": "markdown",
      "metadata": {
        "id": "2UF5hDKfppnd"
      },
      "source": [
        "## ***ASSIGNMENT 1***\n",
        "---\n",
        "\n",
        "Create a program to generate a password\n",
        "length 12:\n",
        "- 6 random == \"A-Z a-z\"\n",
        "- 4 --> digits\n",
        "- 2 -- > special characters\n",
        "\n",
        "Expected Output:\n",
        "\n",
        "```%ji12kt56yU#```\n",
        "\n",
        "Not acceptable output:\n",
        "\n",
        "```whiter1565#$```\n",
        "\n",
        "***Note***: Output should be a mix of all the things mentioned above.\n"
      ]
    },
    {
      "cell_type": "markdown",
      "metadata": {
        "id": "Q44cQUpciHDv"
      },
      "source": [
        "## ***SOLUTION***\n",
        "---"
      ]
    },
    {
      "cell_type": "code",
      "metadata": {
        "id": "D5Gk5RLrpgIg",
        "outputId": "1cbb2fa8-e84a-4168-b5fe-07739d924280",
        "colab": {
          "base_uri": "https://localhost:8080/",
          "height": 55
        }
      },
      "source": [
        "azlist = []\n",
        "\n",
        "az = range( ord('a'), ord('z')+1 ) \n",
        "azlist.extend( list (chr( each ) for each in az  ) )\n",
        "#print( azlist)\n",
        "\n",
        "AZ = range( ord('A'), ord('Z')+1 ) \n",
        "azlist.extend( list (chr( each ) for each in AZ  ) )\n",
        "print( azlist)"
      ],
      "execution_count": 32,
      "outputs": [
        {
          "output_type": "stream",
          "text": [
            "['a', 'b', 'c', 'd', 'e', 'f', 'g', 'h', 'i', 'j', 'k', 'l', 'm', 'n', 'o', 'p', 'q', 'r', 's', 't', 'u', 'v', 'w', 'x', 'y', 'z', 'A', 'B', 'C', 'D', 'E', 'F', 'G', 'H', 'I', 'J', 'K', 'L', 'M', 'N', 'O', 'P', 'Q', 'R', 'S', 'T', 'U', 'V', 'W', 'X', 'Y', 'Z']\n"
          ],
          "name": "stdout"
        }
      ]
    },
    {
      "cell_type": "code",
      "metadata": {
        "id": "f-mwLXD5saBh",
        "outputId": "3d8bf452-7bd8-43b3-a3c7-f1564087ad9c",
        "colab": {
          "base_uri": "https://localhost:8080/",
          "height": 35
        }
      },
      "source": [
        "import random\n",
        "\n",
        "num = list(each for each in str( random.randint( 1000, 9999 ) ))  # 4-digit integer separated\n",
        "#random.shuffle(num)\n",
        "print(num)"
      ],
      "execution_count": 18,
      "outputs": [
        {
          "output_type": "stream",
          "text": [
            "['1', '8', '2', '8']\n"
          ],
          "name": "stdout"
        }
      ]
    },
    {
      "cell_type": "code",
      "metadata": {
        "id": "39cM-a8imPzW",
        "outputId": "2841f100-9471-4643-b670-460c2300d5e8",
        "colab": {
          "base_uri": "https://localhost:8080/",
          "height": 35
        }
      },
      "source": [
        "spclList = [ '$', '#', '%', '!', '_' ] # a small list of special characters\n",
        "spclList"
      ],
      "execution_count": 20,
      "outputs": [
        {
          "output_type": "execute_result",
          "data": {
            "text/plain": [
              "['$', '#', '%', '!', '_']"
            ]
          },
          "metadata": {
            "tags": []
          },
          "execution_count": 20
        }
      ]
    },
    {
      "cell_type": "code",
      "metadata": {
        "id": "eURxdB92v4-i",
        "outputId": "415c9544-555e-4272-dc00-1901e18bdeb4",
        "colab": {
          "base_uri": "https://localhost:8080/",
          "height": 35
        }
      },
      "source": [
        "passList = []\n",
        "\n",
        "passList.extend( random.sample( azlist, 6 )  )  # 6 random alphabets\n",
        "passList.extend( num )\n",
        "passList.extend( random.sample( spclList, 2 ) ) # 2 random special characters\n",
        "\n",
        "random.shuffle( passList )\n",
        "passWord = ''\n",
        "passWord= passWord.join( passList )\n",
        "print( passWord )"
      ],
      "execution_count": 28,
      "outputs": [
        {
          "output_type": "stream",
          "text": [
            "2yO%8g1Aev$8\n"
          ],
          "name": "stdout"
        }
      ]
    },
    {
      "cell_type": "code",
      "metadata": {
        "id": "5OM45Urb0faU"
      },
      "source": [
        ""
      ],
      "execution_count": null,
      "outputs": []
    }
  ]
}