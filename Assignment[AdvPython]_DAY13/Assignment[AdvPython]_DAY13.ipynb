{
  "nbformat": 4,
  "nbformat_minor": 0,
  "metadata": {
    "colab": {
      "name": " Assignment[AdvPython]-DAY13.ipynb",
      "provenance": [],
      "collapsed_sections": []
    },
    "kernelspec": {
      "name": "python3",
      "display_name": "Python 3"
    }
  },
  "cells": [
    {
      "cell_type": "markdown",
      "metadata": {
        "id": "gihQPncag0sU"
      },
      "source": [
        "# **-DAY 13-**"
      ]
    },
    {
      "cell_type": "markdown",
      "metadata": {
        "id": "qVhOWFAyg4zj"
      },
      "source": [
        "## ***ASSIGNMENT 1***\n",
        "---\n",
        "\n",
        "Remove the hardcoded part from the code with the help of ***configparser***.\n",
        "\n",
        "Use the file config file ***exc.ini***\n",
        "\n",
        "\n",
        "\n",
        "```\n",
        "from configparser import ConfigParser\n",
        "import socket\n",
        "print (socket.gethostbyname_ex(socket.gethostname())[-1])\n",
        "config = ConfigParser()\n",
        "config.read(\"letus.ini\")\n",
        "\n",
        "http_ip = config.get(\"HTTP\", \"IP\")\n",
        "http_port = config.getint(\"HTTP\", \"port\")\n",
        "\n",
        "print (\"http ip\", http_ip)\n",
        "print (\"http port\", http_port, type(http_port))\n",
        "```\n",
        "\n"
      ]
    },
    {
      "cell_type": "code",
      "metadata": {
        "id": "L7fBgqR_fo62",
        "outputId": "671c9a6f-4e0c-4702-a773-fc474f818fee",
        "colab": {
          "base_uri": "https://localhost:8080/",
          "height": 164
        }
      },
      "source": [
        "from configparser import ConfigParser\n",
        "\n",
        "config = ConfigParser()\n",
        "config.read('exc.ini')\n",
        "\n",
        "for section in config.sections():\n",
        "  print( section )\n",
        "  \n",
        "  for op in config.options( section ):\n",
        "    print( section, op, ' : ', config.get( section, op ) )\n",
        "  print( '*' *30 )\n"
      ],
      "execution_count": 1,
      "outputs": [
        {
          "output_type": "stream",
          "text": [
            "HTTP\n",
            "HTTP ip  :  192.168.10.1\n",
            "HTTP port  :  8080\n",
            "******************************\n",
            "SQL\n",
            "SQL ip  :  192.168.10.20\n",
            "SQL port  :  3306\n",
            "******************************\n"
          ],
          "name": "stdout"
        }
      ]
    },
    {
      "cell_type": "markdown",
      "metadata": {
        "id": "odP1TVhxha7z"
      },
      "source": [
        "## ***SOLUTION 1***\n",
        "---"
      ]
    },
    {
      "cell_type": "code",
      "metadata": {
        "id": "D0zDvwPLgxJV"
      },
      "source": [
        ""
      ],
      "execution_count": null,
      "outputs": []
    },
    {
      "cell_type": "markdown",
      "metadata": {
        "id": "CX-FElCOhhJb"
      },
      "source": [
        "## ***ASSIGNMENT 2***\n",
        "---\n",
        "\n",
        "Please write the code in such a way that it could search & provide all the paths of files with the same name present in multiple locations.\n",
        "\n",
        "\n",
        "\n"
      ]
    },
    {
      "cell_type": "markdown",
      "metadata": {
        "id": "6eMUHPvt0Rzo"
      },
      "source": [
        "## ***SOLUTION 2***\n",
        "---\n",
        "\n",
        "*The program is tested in Jupyter notebook.*"
      ]
    },
    {
      "cell_type": "code",
      "metadata": {
        "id": "ABgdrPLuh-J9"
      },
      "source": [
        "import os\n",
        "resp = os.walk( 'C:\\\\Users\\\\Public\\\\Pictures' )\n",
        "\n",
        "d1= {} # empty dictionary for storing file names as keys and their root as values\n",
        "print( 'Loading the File index...' )\n",
        "count =0\n",
        "for r,d,f in resp:\n",
        "  for file in f:\n",
        "    count+=1\n",
        "    d1[file + '$' + str(count) ] = r\n",
        "\n",
        "print( 'Loading Completed. '+ str(count) + ' files found!' )\n",
        "print()\n",
        "fileName =  input( 'Enter the file to search: ' )\n",
        "print( '-' *50 )\n",
        "for k,v in d1.items():\n",
        "  if fileName.lower() in k.lower():\n",
        "    name = k.rsplit( '$', 1 )[0]\n",
        "    print( name, ' : ' , v )\n",
        "\n",
        "print( '-' *50 )\n",
        "print( 'PROCESS COMPLETED!' )\n"
      ],
      "execution_count": null,
      "outputs": []
    },
    {
      "cell_type": "markdown",
      "metadata": {
        "id": "uN_qG3eh3UeW"
      },
      "source": [
        "![image.png](data:image/png;base64,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)"
      ]
    },
    {
      "cell_type": "code",
      "metadata": {
        "id": "uAt_NyYd3YWB"
      },
      "source": [
        ""
      ],
      "execution_count": null,
      "outputs": []
    }
  ]
}